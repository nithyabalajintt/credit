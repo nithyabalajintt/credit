{
 "cells": [
  {
   "cell_type": "markdown",
   "metadata": {},
   "source": [
    "Variables Terminology\n",
    "1) original_dataset = containing the actual data\n",
    "2) modified_dataset = containing the outlier free data\n",
    "\n",
    "3) features1 & target1 = features and target extracted from original data\n",
    "4) features2 & target2 = features and target extracted from outlier free data\n",
    "\n",
    "5) X_train, X_test, y_train, y_test = train test split of original data\n",
    "6) modified_X_train, modified_X_test, modified_y_train, modified_y_test = train test split of modified data\n",
    "\n",
    "7) scaled_X_train1, scaled_X_test1 = scaled version of original data's split\n",
    "8) scaled_X_train2, scaled_X_test2 = scaled version of modified data's split"
   ]
  },
  {
   "cell_type": "markdown",
   "metadata": {},
   "source": [
    "Getting all the dependencies."
   ]
  },
  {
   "cell_type": "code",
   "execution_count": 5,
   "metadata": {},
   "outputs": [],
   "source": [
    "# basic imports\n",
    "import pandas as pd\n",
    "\n",
    "# dataset preprocessing dependencies\n",
    "from sklearn.model_selection import train_test_split\n",
    "from sklearn.preprocessing import StandardScaler\n",
    "\n",
    "# models dependencies\n",
    "from sklearn.linear_model import LogisticRegression\n",
    "from sklearn.svm import SVC\n",
    "from sklearn.tree import DecisionTreeClassifier\n",
    "from sklearn.ensemble import RandomForestClassifier\n",
    "\n",
    "# scoring metrics dependencies\n",
    "from sklearn.metrics import confusion_matrix, classification_report, accuracy_score\n",
    "\n",
    "# feature selection dependencies\n",
    "from sklearn.feature_selection import SelectKBest, f_classif, mutual_info_classif\n",
    "\n",
    "# visualisation dependencies\n",
    "import seaborn as sns\n",
    "import matplotlib.pyplot as plt\n",
    "%matplotlib inline"
   ]
  },
  {
   "cell_type": "markdown",
   "metadata": {},
   "source": [
    "A) Getting the dataset and preparing it."
   ]
  },
  {
   "cell_type": "code",
   "execution_count": 6,
   "metadata": {},
   "outputs": [
    {
     "data": {
      "text/html": [
       "<div>\n",
       "<style scoped>\n",
       "    .dataframe tbody tr th:only-of-type {\n",
       "        vertical-align: middle;\n",
       "    }\n",
       "\n",
       "    .dataframe tbody tr th {\n",
       "        vertical-align: top;\n",
       "    }\n",
       "\n",
       "    .dataframe thead th {\n",
       "        text-align: right;\n",
       "    }\n",
       "</style>\n",
       "<table border=\"1\" class=\"dataframe\">\n",
       "  <thead>\n",
       "    <tr style=\"text-align: right;\">\n",
       "      <th></th>\n",
       "      <th>Temperature</th>\n",
       "      <th>Humidity</th>\n",
       "      <th>PM2.5</th>\n",
       "      <th>PM10</th>\n",
       "      <th>NO2</th>\n",
       "      <th>SO2</th>\n",
       "      <th>CO</th>\n",
       "      <th>Proximity_to_Industrial_Areas</th>\n",
       "      <th>Population_Density</th>\n",
       "      <th>Air Quality</th>\n",
       "    </tr>\n",
       "  </thead>\n",
       "  <tbody>\n",
       "    <tr>\n",
       "      <th>0</th>\n",
       "      <td>27.1</td>\n",
       "      <td>39.1</td>\n",
       "      <td>6.1</td>\n",
       "      <td>6.3</td>\n",
       "      <td>13.5</td>\n",
       "      <td>5.3</td>\n",
       "      <td>1.15</td>\n",
       "      <td>11.1</td>\n",
       "      <td>551</td>\n",
       "      <td>Good</td>\n",
       "    </tr>\n",
       "    <tr>\n",
       "      <th>1</th>\n",
       "      <td>26.5</td>\n",
       "      <td>70.7</td>\n",
       "      <td>6.9</td>\n",
       "      <td>16.0</td>\n",
       "      <td>21.9</td>\n",
       "      <td>5.6</td>\n",
       "      <td>1.01</td>\n",
       "      <td>12.7</td>\n",
       "      <td>303</td>\n",
       "      <td>Good</td>\n",
       "    </tr>\n",
       "    <tr>\n",
       "      <th>2</th>\n",
       "      <td>39.4</td>\n",
       "      <td>96.6</td>\n",
       "      <td>14.6</td>\n",
       "      <td>35.5</td>\n",
       "      <td>42.9</td>\n",
       "      <td>17.9</td>\n",
       "      <td>1.82</td>\n",
       "      <td>3.1</td>\n",
       "      <td>674</td>\n",
       "      <td>Poor</td>\n",
       "    </tr>\n",
       "    <tr>\n",
       "      <th>3</th>\n",
       "      <td>41.7</td>\n",
       "      <td>82.5</td>\n",
       "      <td>1.7</td>\n",
       "      <td>15.8</td>\n",
       "      <td>31.1</td>\n",
       "      <td>12.7</td>\n",
       "      <td>1.80</td>\n",
       "      <td>4.6</td>\n",
       "      <td>735</td>\n",
       "      <td>Poor</td>\n",
       "    </tr>\n",
       "    <tr>\n",
       "      <th>4</th>\n",
       "      <td>29.4</td>\n",
       "      <td>93.8</td>\n",
       "      <td>10.3</td>\n",
       "      <td>22.7</td>\n",
       "      <td>45.1</td>\n",
       "      <td>11.8</td>\n",
       "      <td>2.03</td>\n",
       "      <td>5.4</td>\n",
       "      <td>486</td>\n",
       "      <td>Poor</td>\n",
       "    </tr>\n",
       "  </tbody>\n",
       "</table>\n",
       "</div>"
      ],
      "text/plain": [
       "   Temperature  Humidity  PM2.5  PM10   NO2   SO2    CO  \\\n",
       "0         27.1      39.1    6.1   6.3  13.5   5.3  1.15   \n",
       "1         26.5      70.7    6.9  16.0  21.9   5.6  1.01   \n",
       "2         39.4      96.6   14.6  35.5  42.9  17.9  1.82   \n",
       "3         41.7      82.5    1.7  15.8  31.1  12.7  1.80   \n",
       "4         29.4      93.8   10.3  22.7  45.1  11.8  2.03   \n",
       "\n",
       "   Proximity_to_Industrial_Areas  Population_Density Air Quality  \n",
       "0                           11.1                 551        Good  \n",
       "1                           12.7                 303        Good  \n",
       "2                            3.1                 674        Poor  \n",
       "3                            4.6                 735        Poor  \n",
       "4                            5.4                 486        Poor  "
      ]
     },
     "execution_count": 6,
     "metadata": {},
     "output_type": "execute_result"
    }
   ],
   "source": [
    "original_dataset = pd.read_csv('updated_pollution_dataset_2.csv')\n",
    "original_dataset.head()"
   ]
  },
  {
   "cell_type": "code",
   "execution_count": 7,
   "metadata": {},
   "outputs": [
    {
     "data": {
      "text/html": [
       "<div>\n",
       "<style scoped>\n",
       "    .dataframe tbody tr th:only-of-type {\n",
       "        vertical-align: middle;\n",
       "    }\n",
       "\n",
       "    .dataframe tbody tr th {\n",
       "        vertical-align: top;\n",
       "    }\n",
       "\n",
       "    .dataframe thead th {\n",
       "        text-align: right;\n",
       "    }\n",
       "</style>\n",
       "<table border=\"1\" class=\"dataframe\">\n",
       "  <thead>\n",
       "    <tr style=\"text-align: right;\">\n",
       "      <th></th>\n",
       "      <th>Temperature</th>\n",
       "      <th>Humidity</th>\n",
       "      <th>PM2.5</th>\n",
       "      <th>PM10</th>\n",
       "      <th>NO2</th>\n",
       "      <th>SO2</th>\n",
       "      <th>CO</th>\n",
       "      <th>Proximity_to_Industrial_Areas</th>\n",
       "      <th>Population_Density</th>\n",
       "    </tr>\n",
       "  </thead>\n",
       "  <tbody>\n",
       "    <tr>\n",
       "      <th>count</th>\n",
       "      <td>4250.000000</td>\n",
       "      <td>4250.000000</td>\n",
       "      <td>4250.000000</td>\n",
       "      <td>4250.000000</td>\n",
       "      <td>4250.000000</td>\n",
       "      <td>4250.000000</td>\n",
       "      <td>4250.000000</td>\n",
       "      <td>4250.000000</td>\n",
       "      <td>4250.000000</td>\n",
       "    </tr>\n",
       "    <tr>\n",
       "      <th>mean</th>\n",
       "      <td>30.021671</td>\n",
       "      <td>69.935576</td>\n",
       "      <td>20.057929</td>\n",
       "      <td>30.151482</td>\n",
       "      <td>26.399671</td>\n",
       "      <td>10.004471</td>\n",
       "      <td>1.500428</td>\n",
       "      <td>8.684212</td>\n",
       "      <td>497.283059</td>\n",
       "    </tr>\n",
       "    <tr>\n",
       "      <th>std</th>\n",
       "      <td>7.079486</td>\n",
       "      <td>16.402863</td>\n",
       "      <td>25.140063</td>\n",
       "      <td>28.294709</td>\n",
       "      <td>9.415399</td>\n",
       "      <td>7.111211</td>\n",
       "      <td>0.586232</td>\n",
       "      <td>3.778317</td>\n",
       "      <td>158.671435</td>\n",
       "    </tr>\n",
       "    <tr>\n",
       "      <th>min</th>\n",
       "      <td>13.400000</td>\n",
       "      <td>36.000000</td>\n",
       "      <td>0.000000</td>\n",
       "      <td>-0.200000</td>\n",
       "      <td>7.400000</td>\n",
       "      <td>-6.200000</td>\n",
       "      <td>0.650000</td>\n",
       "      <td>2.500000</td>\n",
       "      <td>188.000000</td>\n",
       "    </tr>\n",
       "    <tr>\n",
       "      <th>25%</th>\n",
       "      <td>24.700000</td>\n",
       "      <td>57.800000</td>\n",
       "      <td>4.500000</td>\n",
       "      <td>11.700000</td>\n",
       "      <td>19.500000</td>\n",
       "      <td>4.900000</td>\n",
       "      <td>1.010000</td>\n",
       "      <td>5.225000</td>\n",
       "      <td>376.000000</td>\n",
       "    </tr>\n",
       "    <tr>\n",
       "      <th>50%</th>\n",
       "      <td>28.700000</td>\n",
       "      <td>69.600000</td>\n",
       "      <td>11.600000</td>\n",
       "      <td>21.200000</td>\n",
       "      <td>25.000000</td>\n",
       "      <td>7.500000</td>\n",
       "      <td>1.310000</td>\n",
       "      <td>9.700000</td>\n",
       "      <td>494.000000</td>\n",
       "    </tr>\n",
       "    <tr>\n",
       "      <th>75%</th>\n",
       "      <td>34.500000</td>\n",
       "      <td>80.200000</td>\n",
       "      <td>25.600000</td>\n",
       "      <td>37.800000</td>\n",
       "      <td>32.500000</td>\n",
       "      <td>14.175000</td>\n",
       "      <td>1.930000</td>\n",
       "      <td>11.300000</td>\n",
       "      <td>601.000000</td>\n",
       "    </tr>\n",
       "    <tr>\n",
       "      <th>max</th>\n",
       "      <td>58.600000</td>\n",
       "      <td>128.100000</td>\n",
       "      <td>295.000000</td>\n",
       "      <td>315.800000</td>\n",
       "      <td>64.900000</td>\n",
       "      <td>44.900000</td>\n",
       "      <td>3.720000</td>\n",
       "      <td>25.800000</td>\n",
       "      <td>957.000000</td>\n",
       "    </tr>\n",
       "  </tbody>\n",
       "</table>\n",
       "</div>"
      ],
      "text/plain": [
       "       Temperature     Humidity        PM2.5         PM10          NO2  \\\n",
       "count  4250.000000  4250.000000  4250.000000  4250.000000  4250.000000   \n",
       "mean     30.021671    69.935576    20.057929    30.151482    26.399671   \n",
       "std       7.079486    16.402863    25.140063    28.294709     9.415399   \n",
       "min      13.400000    36.000000     0.000000    -0.200000     7.400000   \n",
       "25%      24.700000    57.800000     4.500000    11.700000    19.500000   \n",
       "50%      28.700000    69.600000    11.600000    21.200000    25.000000   \n",
       "75%      34.500000    80.200000    25.600000    37.800000    32.500000   \n",
       "max      58.600000   128.100000   295.000000   315.800000    64.900000   \n",
       "\n",
       "               SO2           CO  Proximity_to_Industrial_Areas  \\\n",
       "count  4250.000000  4250.000000                    4250.000000   \n",
       "mean     10.004471     1.500428                       8.684212   \n",
       "std       7.111211     0.586232                       3.778317   \n",
       "min      -6.200000     0.650000                       2.500000   \n",
       "25%       4.900000     1.010000                       5.225000   \n",
       "50%       7.500000     1.310000                       9.700000   \n",
       "75%      14.175000     1.930000                      11.300000   \n",
       "max      44.900000     3.720000                      25.800000   \n",
       "\n",
       "       Population_Density  \n",
       "count         4250.000000  \n",
       "mean           497.283059  \n",
       "std            158.671435  \n",
       "min            188.000000  \n",
       "25%            376.000000  \n",
       "50%            494.000000  \n",
       "75%            601.000000  \n",
       "max            957.000000  "
      ]
     },
     "execution_count": 7,
     "metadata": {},
     "output_type": "execute_result"
    }
   ],
   "source": [
    "original_dataset.describe()"
   ]
  },
  {
   "cell_type": "markdown",
   "metadata": {},
   "source": [
    "My Observations from the above data\n",
    "\n",
    "    1) Few outliers in PM2.5, PM10 and SO2 column - having negative and zero values (min values in decribe method gauged this)\n",
    "    2) As measuring unit of pollutants is not specified, I will take the values as is, can't decide whether the range is correct or not. For example temperature would range differently in celcius and farenheit.\n",
    "    3) There are no missing values in the dataset as count matches the total rows for all numeric columns.\n",
    "    4) But this describe misses out on the text column i.e Air Quality, so we will run the null check."
   ]
  },
  {
   "cell_type": "code",
   "execution_count": 8,
   "metadata": {},
   "outputs": [
    {
     "data": {
      "text/plain": [
       "Temperature                      0\n",
       "Humidity                         0\n",
       "PM2.5                            0\n",
       "PM10                             0\n",
       "NO2                              0\n",
       "SO2                              0\n",
       "CO                               0\n",
       "Proximity_to_Industrial_Areas    0\n",
       "Population_Density               0\n",
       "Air Quality                      0\n",
       "dtype: int64"
      ]
     },
     "execution_count": 8,
     "metadata": {},
     "output_type": "execute_result"
    }
   ],
   "source": [
    "#let's do the missing value analysis as we have one non-numeric column\n",
    "original_dataset.isnull().sum()"
   ]
  },
  {
   "cell_type": "markdown",
   "metadata": {},
   "source": [
    "Extracting the input features and the target variable and also converting the labels to 0 or 1 for calculational efficiency."
   ]
  },
  {
   "cell_type": "code",
   "execution_count": 9,
   "metadata": {},
   "outputs": [
    {
     "name": "stdout",
     "output_type": "stream",
     "text": [
      "(3400, 9) (850, 9) (3400,) (850,)\n"
     ]
    }
   ],
   "source": [
    "# Getting the features and target variables from the original data\n",
    "\n",
    "features1 = original_dataset.drop('Air Quality', axis =1)\n",
    "\n",
    "target1 = original_dataset[\"Air Quality\"].map(lambda val: 1 if val == \"Good\" else 0)\n",
    "\n",
    "#some sanity checks\n",
    "target1.head()\n",
    "target1.shape\n",
    "\n",
    "\n",
    "# Getting the train and test splits for the original data\n",
    "\n",
    "X_train, X_test, y_train, y_test = train_test_split(features1, target1, test_size=0.2, random_state=42)\n",
    "\n",
    "# sanity checks\n",
    "print(X_train.shape, X_test.shape, y_train.shape, y_test.shape)"
   ]
  },
  {
   "cell_type": "code",
   "execution_count": 10,
   "metadata": {},
   "outputs": [
    {
     "data": {
      "text/plain": [
       "Temperature                       0\n",
       "Humidity                          0\n",
       "PM2.5                            18\n",
       "PM10                              2\n",
       "NO2                               0\n",
       "SO2                              28\n",
       "CO                                0\n",
       "Proximity_to_Industrial_Areas     0\n",
       "Population_Density                0\n",
       "dtype: int64"
      ]
     },
     "execution_count": 10,
     "metadata": {},
     "output_type": "execute_result"
    }
   ],
   "source": [
    "#how many negative or zero values do we have? - considering these as outliers because concentration can't be negative or 0.\n",
    "zero_counts = (features1 <= 0).sum()\n",
    "zero_counts"
   ]
  },
  {
   "cell_type": "markdown",
   "metadata": {},
   "source": [
    "Inferences\n",
    "1) Negative values seem to be really less, i.e 48 in total, roughly 1% of the entire dataset. From here we will test our models parallely on two datasets, one is the original i.e 4250 in number and another one with certain outliers removed i.e 4202 in number.\n",
    "\n",
    "2) Algorithms being tested are \n",
    "    a) Logistic Regression\n",
    "    b) Support Vector Machines\n",
    "    c) Decision Tree\n",
    "    d) Random Forest\n",
    "\n",
    "3) As the dataset is fairly small and clean, we will decide next steps only after looking at different metrics derived from above testing."
   ]
  },
  {
   "cell_type": "code",
   "execution_count": 11,
   "metadata": {},
   "outputs": [
    {
     "data": {
      "text/plain": [
       "(4202, 10)"
      ]
     },
     "execution_count": 11,
     "metadata": {},
     "output_type": "execute_result"
    }
   ],
   "source": [
    "# In this dataset I have dropped the negative and zero values\n",
    "modified_dataset = original_dataset[original_dataset[\"SO2\"] > 0]\n",
    "modified_dataset = modified_dataset[modified_dataset[\"PM10\"] > 0]\n",
    "modified_dataset = modified_dataset[modified_dataset[\"PM2.5\"] > 0]\n",
    "\n",
    "#sanity check\n",
    "modified_dataset.shape"
   ]
  },
  {
   "cell_type": "code",
   "execution_count": 12,
   "metadata": {},
   "outputs": [
    {
     "name": "stdout",
     "output_type": "stream",
     "text": [
      "(3361, 9) (841, 9) (3361,) (841,)\n"
     ]
    }
   ],
   "source": [
    "# Getting the features and target variables from the modified data\n",
    "\n",
    "features2 = modified_dataset.drop('Air Quality', axis = 1)\n",
    "\n",
    "target2 = modified_dataset[\"Air Quality\"].map(lambda val: 1 if val == \"Good\" else 0)\n",
    "\n",
    "#some sanity checks\n",
    "target2.head()\n",
    "target2.shape\n",
    "\n",
    "#train and test splits for modified data\n",
    "modified_X_train, modified_X_test, modified_y_train, modified_y_test = train_test_split(features2, target2, test_size=0.2, random_state=42)\n",
    "\n",
    "#sanity check\n",
    "print(modified_X_train.shape, modified_X_test.shape, modified_y_train.shape, modified_y_test.shape)"
   ]
  },
  {
   "cell_type": "markdown",
   "metadata": {},
   "source": [
    "A2) Checking the range of entire dataset"
   ]
  },
  {
   "cell_type": "code",
   "execution_count": 13,
   "metadata": {},
   "outputs": [
    {
     "data": {
      "text/plain": [
       "<Axes: >"
      ]
     },
     "execution_count": 13,
     "metadata": {},
     "output_type": "execute_result"
    },
    {
     "data": {
      "image/png": "[encoded data removed]",
      "text/plain": [
       "<Figure size 600x400 with 1 Axes>"
      ]
     },
     "metadata": {},
     "output_type": "display_data"
    }
   ],
   "source": [
    "plt.figure(figsize=(6,4))\n",
    "\n",
    "sns.lineplot(data=original_dataset)"
   ]
  },
  {
   "cell_type": "markdown",
   "metadata": {},
   "source": [
    "As we can see from above plot there is a huge variation in the range of data features, they range from 0.1 to 957 - so let's first standardise them."
   ]
  },
  {
   "cell_type": "code",
   "execution_count": 14,
   "metadata": {},
   "outputs": [],
   "source": [
    "# Standardising the original data\n",
    "\n",
    "scaler1 = StandardScaler()\n",
    "scaled_X_train1 = scaler1.fit_transform(X_train)\n",
    "scaled_X_test1 = scaler1.transform(X_test)\n"
   ]
  },
  {
   "cell_type": "code",
   "execution_count": 15,
   "metadata": {},
   "outputs": [],
   "source": [
    "#Standardising the modified data\n",
    "\n",
    "scaler2 = StandardScaler()\n",
    "scaled_X_train2 = scaler2.fit_transform(modified_X_train)\n",
    "scaled_X_test2 = scaler2.transform(modified_X_test)"
   ]
  },
  {
   "cell_type": "markdown",
   "metadata": {},
   "source": [
    "B) Model Selection\n",
    "\n",
    "    1) Logistic Regression\n",
    "    2) Support Vector Machine\n",
    "    3) Decision Tree\n",
    "    4) Random Forest"
   ]
  },
  {
   "cell_type": "markdown",
   "metadata": {},
   "source": [
    "# Running all the models for original dataset first"
   ]
  },
  {
   "cell_type": "code",
   "execution_count": 16,
   "metadata": {},
   "outputs": [
    {
     "name": "stdout",
     "output_type": "stream",
     "text": [
      "Accuracy: 97.29%\n",
      "[[280  16]\n",
      " [  7 547]]\n",
      "              precision    recall  f1-score   support\n",
      "\n",
      "           0       0.98      0.95      0.96       296\n",
      "           1       0.97      0.99      0.98       554\n",
      "\n",
      "    accuracy                           0.97       850\n",
      "   macro avg       0.97      0.97      0.97       850\n",
      "weighted avg       0.97      0.97      0.97       850\n",
      "\n"
     ]
    }
   ],
   "source": [
    "# 1) Logistic Regression Model\n",
    "\n",
    "original_LR_model = LogisticRegression()\n",
    "original_LR_model.fit(scaled_X_train1, y_train)\n",
    "\n",
    "LR_y_pred1 = original_LR_model.predict(scaled_X_test1)\n",
    "\n",
    "LR_accuracy1 = accuracy_score(y_test, LR_y_pred1)\n",
    "\n",
    "print(\"Accuracy: {:.2f}%\".format(LR_accuracy1 * 100))\n",
    "print(confusion_matrix(y_test, LR_y_pred1))\n",
    "print(classification_report(y_test, LR_y_pred1))"
   ]
  },
  {
   "cell_type": "code",
   "execution_count": 17,
   "metadata": {},
   "outputs": [
    {
     "name": "stdout",
     "output_type": "stream",
     "text": [
      "Accuracy: 97.29%\n",
      "[[282  14]\n",
      " [  9 545]]\n",
      "              precision    recall  f1-score   support\n",
      "\n",
      "           0       0.97      0.95      0.96       296\n",
      "           1       0.97      0.98      0.98       554\n",
      "\n",
      "    accuracy                           0.97       850\n",
      "   macro avg       0.97      0.97      0.97       850\n",
      "weighted avg       0.97      0.97      0.97       850\n",
      "\n"
     ]
    }
   ],
   "source": [
    "# 2) Support Vector machine\n",
    "\n",
    "original_svm_model = SVC()\n",
    "original_svm_model.fit(scaled_X_train1, y_train)\n",
    "\n",
    "SVM_y_pred1 = original_svm_model.predict(scaled_X_test1)\n",
    "\n",
    "SVM_accuracy1 = accuracy_score(y_test, SVM_y_pred1)\n",
    "\n",
    "print(\"Accuracy: {:.2f}%\".format(SVM_accuracy1 * 100))\n",
    "print(confusion_matrix(y_test, SVM_y_pred1))\n",
    "print(classification_report(y_test, SVM_y_pred1))"
   ]
  },
  {
   "cell_type": "code",
   "execution_count": 18,
   "metadata": {},
   "outputs": [
    {
     "name": "stdout",
     "output_type": "stream",
     "text": [
      "Accuracy: 97.29%\n",
      "[[285  11]\n",
      " [ 12 542]]\n",
      "              precision    recall  f1-score   support\n",
      "\n",
      "           0       0.96      0.96      0.96       296\n",
      "           1       0.98      0.98      0.98       554\n",
      "\n",
      "    accuracy                           0.97       850\n",
      "   macro avg       0.97      0.97      0.97       850\n",
      "weighted avg       0.97      0.97      0.97       850\n",
      "\n"
     ]
    }
   ],
   "source": [
    "# 3) Decision Tree Classifier\n",
    "\n",
    "original_dtc_model = DecisionTreeClassifier()\n",
    "original_dtc_model.fit(scaled_X_train1, y_train)\n",
    "\n",
    "DTC_y_pred1 = original_dtc_model.predict(scaled_X_test1)\n",
    "\n",
    "DTC_accuracy1 = accuracy_score(y_test, DTC_y_pred1)\n",
    "\n",
    "print(\"Accuracy: {:.2f}%\".format(DTC_accuracy1 * 100))\n",
    "print(confusion_matrix(y_test, DTC_y_pred1))\n",
    "print(classification_report(y_test, DTC_y_pred1))\n"
   ]
  },
  {
   "cell_type": "code",
   "execution_count": 19,
   "metadata": {},
   "outputs": [
    {
     "data": {
      "text/plain": [
       "array([0.01808169, 0.0276628 , 0.00677245, 0.0051159 , 0.04116349,\n",
       "       0.02743233, 0.77573596, 0.08783525, 0.01020013])"
      ]
     },
     "execution_count": 19,
     "metadata": {},
     "output_type": "execute_result"
    }
   ],
   "source": [
    "original_dtc_model.feature_importances_"
   ]
  },
  {
   "cell_type": "code",
   "execution_count": 20,
   "metadata": {},
   "outputs": [
    {
     "name": "stdout",
     "output_type": "stream",
     "text": [
      "Accuracy: 97.41%\n",
      "[[282  14]\n",
      " [  8 546]]\n",
      "              precision    recall  f1-score   support\n",
      "\n",
      "           0       0.97      0.95      0.96       296\n",
      "           1       0.97      0.99      0.98       554\n",
      "\n",
      "    accuracy                           0.97       850\n",
      "   macro avg       0.97      0.97      0.97       850\n",
      "weighted avg       0.97      0.97      0.97       850\n",
      "\n"
     ]
    }
   ],
   "source": [
    "# 4) Random Forest Classifier - ensemble of decision trees\n",
    "original_rfc_model = RandomForestClassifier(n_estimators=50)\n",
    "original_rfc_model.fit(scaled_X_train1, y_train)\n",
    "\n",
    "RFC_y_pred1 = original_rfc_model.predict(scaled_X_test1)\n",
    "\n",
    "RFC_accuracy1 = accuracy_score(y_test, RFC_y_pred1)\n",
    "\n",
    "print(\"Accuracy: {:.2f}%\".format(RFC_accuracy1 * 100))\n",
    "print(confusion_matrix(y_test, RFC_y_pred1))\n",
    "print(classification_report(y_test, RFC_y_pred1))"
   ]
  },
  {
   "cell_type": "markdown",
   "metadata": {},
   "source": [
    "# Running all the models for modified dataset"
   ]
  },
  {
   "cell_type": "code",
   "execution_count": 21,
   "metadata": {},
   "outputs": [
    {
     "name": "stdout",
     "output_type": "stream",
     "text": [
      "Accuracy: 97.98%\n",
      "[[309   8]\n",
      " [  9 515]]\n",
      "              precision    recall  f1-score   support\n",
      "\n",
      "           0       0.97      0.97      0.97       317\n",
      "           1       0.98      0.98      0.98       524\n",
      "\n",
      "    accuracy                           0.98       841\n",
      "   macro avg       0.98      0.98      0.98       841\n",
      "weighted avg       0.98      0.98      0.98       841\n",
      "\n"
     ]
    }
   ],
   "source": [
    "# 1) Logistic Regression Model\n",
    "\n",
    "modified_LR_model = LogisticRegression()\n",
    "modified_LR_model.fit(scaled_X_train2, modified_y_train)\n",
    "\n",
    "LR_y_pred2 = modified_LR_model.predict(scaled_X_test2)\n",
    "\n",
    "LR_accuracy2 = accuracy_score(modified_y_test, LR_y_pred2)\n",
    "\n",
    "print(\"Accuracy: {:.2f}%\".format(LR_accuracy2 * 100))\n",
    "print(confusion_matrix(modified_y_test, LR_y_pred2))\n",
    "print(classification_report(modified_y_test, LR_y_pred2))"
   ]
  },
  {
   "cell_type": "code",
   "execution_count": 22,
   "metadata": {},
   "outputs": [
    {
     "name": "stdout",
     "output_type": "stream",
     "text": [
      "Accuracy: 98.45%\n",
      "[[310   7]\n",
      " [  6 518]]\n",
      "              precision    recall  f1-score   support\n",
      "\n",
      "           0       0.98      0.98      0.98       317\n",
      "           1       0.99      0.99      0.99       524\n",
      "\n",
      "    accuracy                           0.98       841\n",
      "   macro avg       0.98      0.98      0.98       841\n",
      "weighted avg       0.98      0.98      0.98       841\n",
      "\n"
     ]
    }
   ],
   "source": [
    "# 2) Support Vector machine\n",
    "\n",
    "modified_svm_model = SVC()\n",
    "modified_svm_model.fit(scaled_X_train2, modified_y_train)\n",
    "\n",
    "SVM_y_pred2 = modified_svm_model.predict(scaled_X_test2)\n",
    "\n",
    "SVM_accuracy2 = accuracy_score(modified_y_test, SVM_y_pred2)\n",
    "\n",
    "print(\"Accuracy: {:.2f}%\".format(SVM_accuracy2 * 100))\n",
    "print(confusion_matrix(modified_y_test, SVM_y_pred2))\n",
    "print(classification_report(modified_y_test, SVM_y_pred2))"
   ]
  },
  {
   "cell_type": "code",
   "execution_count": 23,
   "metadata": {},
   "outputs": [
    {
     "name": "stdout",
     "output_type": "stream",
     "text": [
      "Accuracy: 97.27%\n",
      "[[302  15]\n",
      " [  8 516]]\n",
      "              precision    recall  f1-score   support\n",
      "\n",
      "           0       0.97      0.95      0.96       317\n",
      "           1       0.97      0.98      0.98       524\n",
      "\n",
      "    accuracy                           0.97       841\n",
      "   macro avg       0.97      0.97      0.97       841\n",
      "weighted avg       0.97      0.97      0.97       841\n",
      "\n"
     ]
    }
   ],
   "source": [
    "# 3) Decision Tree Classifier\n",
    "\n",
    "modified_dtc_model = DecisionTreeClassifier()\n",
    "modified_dtc_model.fit(scaled_X_train2, modified_y_train)\n",
    "\n",
    "DTC_y_pred2 = modified_dtc_model.predict(scaled_X_test2)\n",
    "\n",
    "DTC_accuracy2 = accuracy_score(modified_y_test, DTC_y_pred2)\n",
    "\n",
    "print(\"Accuracy: {:.2f}%\".format(DTC_accuracy2 * 100))\n",
    "print(confusion_matrix(modified_y_test, DTC_y_pred2))\n",
    "print(classification_report(modified_y_test, DTC_y_pred2))\n"
   ]
  },
  {
   "cell_type": "code",
   "execution_count": 24,
   "metadata": {},
   "outputs": [
    {
     "data": {
      "text/plain": [
       "array([0.02102914, 0.02900236, 0.00299124, 0.01654311, 0.02863108,\n",
       "       0.02234752, 0.76819281, 0.10397408, 0.00728867])"
      ]
     },
     "execution_count": 24,
     "metadata": {},
     "output_type": "execute_result"
    }
   ],
   "source": [
    "modified_dtc_model.feature_importances_"
   ]
  },
  {
   "cell_type": "code",
   "execution_count": 25,
   "metadata": {},
   "outputs": [
    {
     "name": "stdout",
     "output_type": "stream",
     "text": [
      "Accuracy: 98.57%\n",
      "[[313   4]\n",
      " [  8 516]]\n",
      "              precision    recall  f1-score   support\n",
      "\n",
      "           0       0.98      0.99      0.98       317\n",
      "           1       0.99      0.98      0.99       524\n",
      "\n",
      "    accuracy                           0.99       841\n",
      "   macro avg       0.98      0.99      0.98       841\n",
      "weighted avg       0.99      0.99      0.99       841\n",
      "\n"
     ]
    }
   ],
   "source": [
    "# 4) Random Forest Classifier - ensemble of decision trees\n",
    "modified_rfc_model = RandomForestClassifier(n_estimators=50)\n",
    "modified_rfc_model.fit(scaled_X_train2, modified_y_train)\n",
    "\n",
    "RFC_y_pred2 = modified_rfc_model.predict(scaled_X_test2)\n",
    "\n",
    "RFC_accuracy2 = accuracy_score(modified_y_test, RFC_y_pred2)\n",
    "\n",
    "print(\"Accuracy: {:.2f}%\".format(RFC_accuracy2 * 100))\n",
    "print(confusion_matrix(modified_y_test, RFC_y_pred2))\n",
    "print(classification_report(modified_y_test, RFC_y_pred2))"
   ]
  },
  {
   "cell_type": "code",
   "execution_count": 26,
   "metadata": {},
   "outputs": [],
   "source": [
    "# Training Set accuracies for all the 4 algorithms\n",
    "\n",
    "LR_y_pred_train1 = original_LR_model.predict(scaled_X_train1)\n",
    "\n",
    "LR_accuracy_train1 = accuracy_score(y_train, LR_y_pred_train1)\n",
    "\n",
    "SVM_y_pred_train1 = original_svm_model.predict(scaled_X_train1)\n",
    "\n",
    "SVM_accuracy_train1 = accuracy_score(y_train, SVM_y_pred_train1)\n",
    "\n",
    "DTC_y_pred_train1 = original_dtc_model.predict(scaled_X_train1)\n",
    "\n",
    "DTC_accuracy_train1 = accuracy_score(y_train, DTC_y_pred_train1)\n",
    "\n",
    "\n",
    "RFC_y_pred_train1 = original_rfc_model.predict(scaled_X_train1)\n",
    "\n",
    "RFC_accuracy_train1 = accuracy_score(y_train, RFC_y_pred_train1)"
   ]
  },
  {
   "cell_type": "code",
   "execution_count": 27,
   "metadata": {},
   "outputs": [],
   "source": [
    "# Training Set accuracies for all the 4 algorithms\n",
    "\n",
    "LR_y_pred_train2 = modified_LR_model.predict(scaled_X_train2)\n",
    "\n",
    "LR_accuracy_train2 = accuracy_score(modified_y_train, LR_y_pred_train2)\n",
    "\n",
    "SVM_y_pred_train2 = modified_svm_model.predict(scaled_X_train2)\n",
    "\n",
    "SVM_accuracy_train2 = accuracy_score(modified_y_train, SVM_y_pred_train2)\n",
    "\n",
    "DTC_y_pred_train2 = modified_dtc_model.predict(scaled_X_train2)\n",
    "\n",
    "DTC_accuracy_train2 = accuracy_score(modified_y_train, DTC_y_pred_train2)\n",
    "\n",
    "\n",
    "RFC_y_pred_train2 = modified_rfc_model.predict(scaled_X_train2)\n",
    "\n",
    "RFC_accuracy_train2 = accuracy_score(modified_y_train, RFC_y_pred_train2)"
   ]
  },
  {
   "cell_type": "markdown",
   "metadata": {},
   "source": [
    "C) Metrics for all the above 4 models for both the dataset\n",
    "\n",
    "    1) Using 80:20 split\n",
    "    2) Using two kinds of datasets - original & modified(i.e. outlier free)"
   ]
  },
  {
   "cell_type": "code",
   "execution_count": 28,
   "metadata": {},
   "outputs": [
    {
     "name": "stdout",
     "output_type": "stream",
     "text": [
      "Metrics for original data\n",
      "                      Model  Taining Set Accuracy  Test Set Accuracy\n",
      "0       Logistic Regression              0.977059           0.972941\n",
      "1    Support Vector Machine              0.984706           0.972941\n",
      "2             Decision Tree              1.000000           0.972941\n",
      "3  Random Forest Classifier              1.000000           0.974118\n",
      "--------------------------------\n",
      "Metrics for engineered data\n",
      "                      Model  Taining Set Accuracy  Test Set Accuracy\n",
      "0       Logistic Regression              0.976198           0.979786\n",
      "1    Support Vector Machine              0.980958           0.984542\n",
      "2             Decision Tree              1.000000           0.972652\n",
      "3  Random Forest Classifier              1.000000           0.985731\n"
     ]
    }
   ],
   "source": [
    "\n",
    "orig_data = {\n",
    "    'Model': ['Logistic Regression', 'Support Vector Machine', 'Decision Tree', 'Random Forest Classifier'],\n",
    "    'Taining Set Accuracy': [LR_accuracy_train1, SVM_accuracy_train1, DTC_accuracy_train1, RFC_accuracy_train1],\n",
    "    'Test Set Accuracy':[LR_accuracy1, SVM_accuracy1, DTC_accuracy1, RFC_accuracy1]\n",
    "}\n",
    "\n",
    "\n",
    "orig_df = pd.DataFrame(orig_data)\n",
    "\n",
    "\n",
    "modified_data ={\n",
    "    'Model': ['Logistic Regression', 'Support Vector Machine', 'Decision Tree', 'Random Forest Classifier'],\n",
    "    'Taining Set Accuracy': [LR_accuracy_train2, SVM_accuracy_train2, DTC_accuracy_train2, RFC_accuracy_train2],\n",
    "    'Test Set Accuracy':[LR_accuracy2, SVM_accuracy2, DTC_accuracy2, RFC_accuracy2]\n",
    "}\n",
    "\n",
    "modified_df = pd.DataFrame(modified_data)\n",
    "\n",
    "\n",
    "print(\"Metrics for original data\")\n",
    "print(orig_df)\n",
    "print(\"--------------------------------\")\n",
    "print(\"Metrics for engineered data\")\n",
    "print(modified_df)"
   ]
  },
  {
   "cell_type": "code",
   "execution_count": 29,
   "metadata": {},
   "outputs": [
    {
     "data": {
      "text/html": [
       "<div>\n",
       "<style scoped>\n",
       "    .dataframe tbody tr th:only-of-type {\n",
       "        vertical-align: middle;\n",
       "    }\n",
       "\n",
       "    .dataframe tbody tr th {\n",
       "        vertical-align: top;\n",
       "    }\n",
       "\n",
       "    .dataframe thead th {\n",
       "        text-align: right;\n",
       "    }\n",
       "</style>\n",
       "<table border=\"1\" class=\"dataframe\">\n",
       "  <thead>\n",
       "    <tr style=\"text-align: right;\">\n",
       "      <th></th>\n",
       "      <th>Temperature</th>\n",
       "      <th>Humidity</th>\n",
       "      <th>PM2.5</th>\n",
       "      <th>PM10</th>\n",
       "      <th>NO2</th>\n",
       "      <th>SO2</th>\n",
       "      <th>CO</th>\n",
       "      <th>Proximity_to_Industrial_Areas</th>\n",
       "      <th>Population_Density</th>\n",
       "      <th>quality</th>\n",
       "    </tr>\n",
       "  </thead>\n",
       "  <tbody>\n",
       "    <tr>\n",
       "      <th>Temperature</th>\n",
       "      <td>1.000000</td>\n",
       "      <td>0.505324</td>\n",
       "      <td>0.354834</td>\n",
       "      <td>0.461712</td>\n",
       "      <td>0.623888</td>\n",
       "      <td>0.600470</td>\n",
       "      <td>0.713907</td>\n",
       "      <td>-0.627069</td>\n",
       "      <td>0.517086</td>\n",
       "      <td>-0.696016</td>\n",
       "    </tr>\n",
       "    <tr>\n",
       "      <th>Humidity</th>\n",
       "      <td>0.505324</td>\n",
       "      <td>1.000000</td>\n",
       "      <td>0.295273</td>\n",
       "      <td>0.388177</td>\n",
       "      <td>0.527357</td>\n",
       "      <td>0.494397</td>\n",
       "      <td>0.601310</td>\n",
       "      <td>-0.516630</td>\n",
       "      <td>0.444821</td>\n",
       "      <td>-0.600894</td>\n",
       "    </tr>\n",
       "    <tr>\n",
       "      <th>PM2.5</th>\n",
       "      <td>0.354834</td>\n",
       "      <td>0.295273</td>\n",
       "      <td>1.000000</td>\n",
       "      <td>0.972610</td>\n",
       "      <td>0.366690</td>\n",
       "      <td>0.330682</td>\n",
       "      <td>0.425017</td>\n",
       "      <td>-0.342054</td>\n",
       "      <td>0.308384</td>\n",
       "      <td>-0.393885</td>\n",
       "    </tr>\n",
       "    <tr>\n",
       "      <th>PM10</th>\n",
       "      <td>0.461712</td>\n",
       "      <td>0.388177</td>\n",
       "      <td>0.972610</td>\n",
       "      <td>1.000000</td>\n",
       "      <td>0.476833</td>\n",
       "      <td>0.436771</td>\n",
       "      <td>0.551315</td>\n",
       "      <td>-0.457790</td>\n",
       "      <td>0.400210</td>\n",
       "      <td>-0.521734</td>\n",
       "    </tr>\n",
       "    <tr>\n",
       "      <th>NO2</th>\n",
       "      <td>0.623888</td>\n",
       "      <td>0.527357</td>\n",
       "      <td>0.366690</td>\n",
       "      <td>0.476833</td>\n",
       "      <td>1.000000</td>\n",
       "      <td>0.604779</td>\n",
       "      <td>0.735544</td>\n",
       "      <td>-0.645217</td>\n",
       "      <td>0.543809</td>\n",
       "      <td>-0.727564</td>\n",
       "    </tr>\n",
       "    <tr>\n",
       "      <th>SO2</th>\n",
       "      <td>0.600470</td>\n",
       "      <td>0.494397</td>\n",
       "      <td>0.330682</td>\n",
       "      <td>0.436771</td>\n",
       "      <td>0.604779</td>\n",
       "      <td>1.000000</td>\n",
       "      <td>0.706209</td>\n",
       "      <td>-0.606691</td>\n",
       "      <td>0.508033</td>\n",
       "      <td>-0.694677</td>\n",
       "    </tr>\n",
       "    <tr>\n",
       "      <th>CO</th>\n",
       "      <td>0.713907</td>\n",
       "      <td>0.601310</td>\n",
       "      <td>0.425017</td>\n",
       "      <td>0.551315</td>\n",
       "      <td>0.735544</td>\n",
       "      <td>0.706209</td>\n",
       "      <td>1.000000</td>\n",
       "      <td>-0.740639</td>\n",
       "      <td>0.625894</td>\n",
       "      <td>-0.834948</td>\n",
       "    </tr>\n",
       "    <tr>\n",
       "      <th>Proximity_to_Industrial_Areas</th>\n",
       "      <td>-0.627069</td>\n",
       "      <td>-0.516630</td>\n",
       "      <td>-0.342054</td>\n",
       "      <td>-0.457790</td>\n",
       "      <td>-0.645217</td>\n",
       "      <td>-0.606691</td>\n",
       "      <td>-0.740639</td>\n",
       "      <td>1.000000</td>\n",
       "      <td>-0.541601</td>\n",
       "      <td>0.692453</td>\n",
       "    </tr>\n",
       "    <tr>\n",
       "      <th>Population_Density</th>\n",
       "      <td>0.517086</td>\n",
       "      <td>0.444821</td>\n",
       "      <td>0.308384</td>\n",
       "      <td>0.400210</td>\n",
       "      <td>0.543809</td>\n",
       "      <td>0.508033</td>\n",
       "      <td>0.625894</td>\n",
       "      <td>-0.541601</td>\n",
       "      <td>1.000000</td>\n",
       "      <td>-0.611244</td>\n",
       "    </tr>\n",
       "    <tr>\n",
       "      <th>quality</th>\n",
       "      <td>-0.696016</td>\n",
       "      <td>-0.600894</td>\n",
       "      <td>-0.393885</td>\n",
       "      <td>-0.521734</td>\n",
       "      <td>-0.727564</td>\n",
       "      <td>-0.694677</td>\n",
       "      <td>-0.834948</td>\n",
       "      <td>0.692453</td>\n",
       "      <td>-0.611244</td>\n",
       "      <td>1.000000</td>\n",
       "    </tr>\n",
       "  </tbody>\n",
       "</table>\n",
       "</div>"
      ],
      "text/plain": [
       "                               Temperature  Humidity     PM2.5      PM10  \\\n",
       "Temperature                       1.000000  0.505324  0.354834  0.461712   \n",
       "Humidity                          0.505324  1.000000  0.295273  0.388177   \n",
       "PM2.5                             0.354834  0.295273  1.000000  0.972610   \n",
       "PM10                              0.461712  0.388177  0.972610  1.000000   \n",
       "NO2                               0.623888  0.527357  0.366690  0.476833   \n",
       "SO2                               0.600470  0.494397  0.330682  0.436771   \n",
       "CO                                0.713907  0.601310  0.425017  0.551315   \n",
       "Proximity_to_Industrial_Areas    -0.627069 -0.516630 -0.342054 -0.457790   \n",
       "Population_Density                0.517086  0.444821  0.308384  0.400210   \n",
       "quality                          -0.696016 -0.600894 -0.393885 -0.521734   \n",
       "\n",
       "                                    NO2       SO2        CO  \\\n",
       "Temperature                    0.623888  0.600470  0.713907   \n",
       "Humidity                       0.527357  0.494397  0.601310   \n",
       "PM2.5                          0.366690  0.330682  0.425017   \n",
       "PM10                           0.476833  0.436771  0.551315   \n",
       "NO2                            1.000000  0.604779  0.735544   \n",
       "SO2                            0.604779  1.000000  0.706209   \n",
       "CO                             0.735544  0.706209  1.000000   \n",
       "Proximity_to_Industrial_Areas -0.645217 -0.606691 -0.740639   \n",
       "Population_Density             0.543809  0.508033  0.625894   \n",
       "quality                       -0.727564 -0.694677 -0.834948   \n",
       "\n",
       "                               Proximity_to_Industrial_Areas  \\\n",
       "Temperature                                        -0.627069   \n",
       "Humidity                                           -0.516630   \n",
       "PM2.5                                              -0.342054   \n",
       "PM10                                               -0.457790   \n",
       "NO2                                                -0.645217   \n",
       "SO2                                                -0.606691   \n",
       "CO                                                 -0.740639   \n",
       "Proximity_to_Industrial_Areas                       1.000000   \n",
       "Population_Density                                 -0.541601   \n",
       "quality                                             0.692453   \n",
       "\n",
       "                               Population_Density   quality  \n",
       "Temperature                              0.517086 -0.696016  \n",
       "Humidity                                 0.444821 -0.600894  \n",
       "PM2.5                                    0.308384 -0.393885  \n",
       "PM10                                     0.400210 -0.521734  \n",
       "NO2                                      0.543809 -0.727564  \n",
       "SO2                                      0.508033 -0.694677  \n",
       "CO                                       0.625894 -0.834948  \n",
       "Proximity_to_Industrial_Areas           -0.541601  0.692453  \n",
       "Population_Density                       1.000000 -0.611244  \n",
       "quality                                 -0.611244  1.000000  "
      ]
     },
     "execution_count": 29,
     "metadata": {},
     "output_type": "execute_result"
    }
   ],
   "source": [
    "# Let's derive the correlation matrix first\n",
    "\n",
    "#okay so we need all numerical entries to get the correlation matrix\n",
    "\n",
    "#let's create an entire new data frame and not touch the above setup\n",
    "\n",
    "new_df = pd.read_csv('updated_pollution_dataset_2.csv')\n",
    "\n",
    "quality = original_dataset['Air Quality'].map(lambda val: 1 if val == \"Good\" else 0)\n",
    "\n",
    "new_df['quality'] = quality\n",
    "\n",
    "new_df = new_df.drop('Air Quality', axis=1)\n",
    "\n",
    "correlation_matrix = new_df.corr()\n",
    "\n",
    "correlation_matrix"
   ]
  },
  {
   "cell_type": "markdown",
   "metadata": {},
   "source": [
    "1) CO and Proximity_to_industrial_Areas show the highest of correlations with the target variable\n",
    "2) There is only one positive relationship - with proximity_to_industrial_areas"
   ]
  },
  {
   "cell_type": "code",
   "execution_count": 30,
   "metadata": {},
   "outputs": [
    {
     "data": {
      "text/plain": [
       "<Axes: xlabel='Proximity_to_Industrial_Areas', ylabel='CO'>"
      ]
     },
     "execution_count": 30,
     "metadata": {},
     "output_type": "execute_result"
    },
    {
     "data": {
      "image/png": "[encoded data removed]",
      "text/plain": [
       "<Figure size 640x480 with 1 Axes>"
      ]
     },
     "metadata": {},
     "output_type": "display_data"
    }
   ],
   "source": [
    "sns.lineplot(x='Proximity_to_Industrial_Areas', y='CO', data = new_df, hue='quality')"
   ]
  },
  {
   "cell_type": "markdown",
   "metadata": {},
   "source": [
    "D) Performing Feature Selection, let's see if it increases the accuracy\n",
    "    1) Using f_classif, mutual_info_classif\n",
    "\n",
    "However the accuracy actually dropped after using feature selection, so let'snot delve deeper. I have presented one of its case."
   ]
  },
  {
   "cell_type": "code",
   "execution_count": 31,
   "metadata": {},
   "outputs": [
    {
     "data": {
      "text/plain": [
       "(3400,)"
      ]
     },
     "execution_count": 31,
     "metadata": {},
     "output_type": "execute_result"
    }
   ],
   "source": [
    "selector1 = SelectKBest(f_classif, k = 3)\n",
    "X_new = selector1.fit_transform(X_train, y_train)\n",
    "\n",
    "# some sanity checks\n",
    "X_new[:5]\n",
    "X_new.shape\n",
    "y_train.shape"
   ]
  },
  {
   "cell_type": "code",
   "execution_count": 32,
   "metadata": {},
   "outputs": [
    {
     "data": {
      "text/plain": [
       "0.9564705882352941"
      ]
     },
     "execution_count": 32,
     "metadata": {},
     "output_type": "execute_result"
    }
   ],
   "source": [
    "X_test_new = selector1.transform(X_test)\n",
    "selected_model = LogisticRegression()\n",
    "selected_model.fit(X_new, y_train)\n",
    "\n",
    "selected_pred = selected_model.predict(X_test_new)\n",
    "\n",
    "selected_accuracy = accuracy_score(y_test, selected_pred)\n",
    "selected_accuracy"
   ]
  },
  {
   "cell_type": "code",
   "execution_count": 33,
   "metadata": {},
   "outputs": [
    {
     "data": {
      "text/plain": [
       "array([[ 25.8 ,  54.7 ,  10.2 ,  15.8 ,  14.2 ,   5.  ,   1.03,  10.2 ,\n",
       "        535.  ],\n",
       "       [ 42.1 ,  87.1 , 168.6 , 188.2 ,  30.9 ,  14.8 ,   2.94,   3.2 ,\n",
       "        759.  ],\n",
       "       [ 46.8 , 117.3 ,  21.6 ,  29.6 ,  25.3 ,  26.7 ,   2.31,   6.4 ,\n",
       "        712.  ],\n",
       "       [ 46.  ,  90.9 ,  11.  ,  30.8 ,  26.2 ,  15.  ,   1.78,   5.6 ,\n",
       "        736.  ],\n",
       "       [ 36.1 ,  77.3 ,  40.8 ,  50.4 ,  23.1 ,  13.1 ,   2.04,   5.2 ,\n",
       "        615.  ]])"
      ]
     },
     "execution_count": 33,
     "metadata": {},
     "output_type": "execute_result"
    }
   ],
   "source": [
    "selector2 = SelectKBest(mutual_info_classif, k = 9)\n",
    "X_new2 = selector2.fit_transform(X_train, y_train)\n",
    "X_new2[:5]"
   ]
  },
  {
   "cell_type": "code",
   "execution_count": 34,
   "metadata": {},
   "outputs": [
    {
     "data": {
      "text/plain": [
       "0.9564705882352941"
      ]
     },
     "execution_count": 34,
     "metadata": {},
     "output_type": "execute_result"
    }
   ],
   "source": [
    "X_test_new2 = selector2.transform(X_test)\n",
    "selected_model2 = SVC()\n",
    "selected_model2.fit(X_new2, y_train)\n",
    "\n",
    "selected_pred2 = selected_model2.predict(X_test_new2)\n",
    "selected_accuracy2 = accuracy_score(y_test, selected_pred)\n",
    "selected_accuracy2"
   ]
  }
 ],
 "metadata": {
  "kernelspec": {
   "display_name": "venv",
   "language": "python",
   "name": "python3"
  },
  "language_info": {
   "codemirror_mode": {
    "name": "ipython",
    "version": 3
   },
   "file_extension": ".py",
   "mimetype": "text/x-python",
   "name": "python",
   "nbconvert_exporter": "python",
   "pygments_lexer": "ipython3",
   "version": "3.10.11"
  }
 },
 "nbformat": 4,
 "nbformat_minor": 2
}
